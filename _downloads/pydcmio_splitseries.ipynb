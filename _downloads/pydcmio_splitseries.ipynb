{
  "nbformat_minor": 0, 
  "nbformat": 4, 
  "cells": [
    {
      "execution_count": null, 
      "cell_type": "code", 
      "source": [
        "%matplotlib inline"
      ], 
      "outputs": [], 
      "metadata": {
        "collapsed": false
      }
    }, 
    {
      "source": [
        "\nPydcmio Splitseries\n===================\n\nExample automatically generated from package script.\n\n"
      ], 
      "cell_type": "markdown", 
      "metadata": {}
    }, 
    {
      "execution_count": null, 
      "cell_type": "code", 
      "source": [
        "# System import\nfrom __future__ import print_function\nimport argparse\nimport os\nimport shutil\n\n# Bredala import\ntry:\n    import bredala\n    bredala.USE_PROFILER = False\n    bredala.register(\"pydcmio.dcmconverter.spliter\",\n                     names=[\"split_series\"])\nexcept:\n    pass\n\n# Dcmio import\nfrom pydcmio import __version__ as version\nfrom pydcmio.dcmconverter.spliter import split_series\n\n# Parameters to keep trace\n__hopla__ = [\"tool\", \"version\", \"inputs\", \"outputs\"]\n\n\n# Script documentation\ndoc = \"\"\"\nSplit DICOM series\n~~~~~~~~~~~~~~~~~~\n\nSplit a Dicom folder files by series.\nDicom files are searched recursively in the input folder and all files\nare expected to be Dicom files.\n\nExpect to split files from a single session.\n\nCommand:\n\npython $HOME/git/pydcmio/pydcmio/scripts/pydcmio_splitseries \\\n    -v 2 \\\n    -i /volatile/nsap/dcm2nii/dicom \\\n    -o /volatile/nsap/dcm2nii/convert_dicom \n\"\"\"\n\n\ndef is_directory(dirarg):\n    \"\"\" Type for argparse - checks that directory exists.\n    \"\"\"\n    if not os.path.isdir(dirarg):\n        raise argparse.ArgumentError(\n            \"The directory '{0}' does not exist!\".format(dirarg))\n    return dirarg\n\n\nparser = argparse.ArgumentParser(description=doc)\nparser.add_argument(\n    \"-v\", \"--verbose\", dest=\"verbose\", type=int, choices=[0, 1, 2], default=0,\n    help=\"increase the verbosity level: 0 silent, [1, 2] verbose.\")\nparser.add_argument(\n    \"-i\", \"--indir\", dest=\"indir\", required=True, metavar=\"PATH\",\n    help=\"a folder that contains DICOM files only.\",\n    type=is_directory)\nparser.add_argument(\n    \"-o\", \"--outdir\", dest=\"outdir\", required=True, metavar=\"PATH\",\n    help=\"the folder that contains the generated split DICOM files.\",\n    type=is_directory)\nargs = parser.parse_args()"
      ], 
      "outputs": [], 
      "metadata": {
        "collapsed": false
      }
    }, 
    {
      "source": [
        "Welcome message.\n\n"
      ], 
      "cell_type": "markdown", 
      "metadata": {}
    }, 
    {
      "execution_count": null, 
      "cell_type": "code", 
      "source": [
        "tool = \"pydcmio_splitseries\"\nif args.verbose > 0:\n    print(\"[info] Start DICOM files splitting...\")\n    print(\"[info] Input: {0}.\".format(args.indir))\n    print(\"[info] Output: {0}.\".format(args.outdir))\ninputs = [args.indir]\noutputs = [args.outdir]"
      ], 
      "outputs": [], 
      "metadata": {
        "collapsed": false
      }
    }, 
    {
      "source": [
        "Execute the splitting task.\n\n"
      ], 
      "cell_type": "markdown", 
      "metadata": {}
    }, 
    {
      "execution_count": null, 
      "cell_type": "code", 
      "source": [
        "split_series(args.indir, args.outdir)"
      ], 
      "outputs": [], 
      "metadata": {
        "collapsed": false
      }
    }
  ], 
  "metadata": {
    "kernelspec": {
      "display_name": "Python 2", 
      "name": "python2", 
      "language": "python"
    }, 
    "language_info": {
      "mimetype": "text/x-python", 
      "nbconvert_exporter": "python", 
      "name": "python", 
      "file_extension": ".py", 
      "version": "2.7.12", 
      "pygments_lexer": "ipython2", 
      "codemirror_mode": {
        "version": 2, 
        "name": "ipython"
      }
    }
  }
}