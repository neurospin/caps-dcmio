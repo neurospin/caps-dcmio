{
  "nbformat_minor": 0, 
  "nbformat": 4, 
  "cells": [
    {
      "execution_count": null, 
      "cell_type": "code", 
      "source": [
        "%matplotlib inline"
      ], 
      "outputs": [], 
      "metadata": {
        "collapsed": false
      }
    }, 
    {
      "source": [
        "\nPydcmio Transcode\n=================\n\nExample automatically generated from package script.\n\n"
      ], 
      "cell_type": "markdown", 
      "metadata": {}
    }, 
    {
      "execution_count": null, 
      "cell_type": "code", 
      "source": [
        "# System import\nfrom __future__ import print_function\nimport argparse\nimport os\nimport json\nimport shutil\nfrom datetime import datetime\nfrom pprint import pprint\n\n# Bredala import\ntry:\n    import bredala\n    bredala.USE_PROFILER = False\n    bredala.register(\"pydcmio.dcmconverter.transcoder\",\n                     names=[\"transcode_sids\"])\nexcept:\n    pass\n\n# Dcmio import\nfrom pydcmio import __version__ as version\nfrom pydcmio.dcmconverter.transcoder import transcode_sids\n\n# Parameters to keep trace\n__hopla__ = [\"runtime\", \"inputs\", \"outputs\"]\n\n\n# Script documentation\ndoc = \"\"\"\nTranscode the subject identifiers\n~~~~~~~~~~~~~~~~~~~~~~~~~~~~~~~~~\n\nThe transcoded subject identifier is generated randomly (12 digits random\nnumber between 100000000000 and 999999999999). The procedure checks\nif the subject identifier has already been transcoded.\n\nCommand:\n\npython $HOME/git/pydcmio/pydcmio/scripts/pydcmio_transcode \\\n    -v 2 \\\n    -s Lola \\\n    -d /volatile/nsap/dcm2nii/convert \\\n    -o /volatile/nsap/dcm2nii/convert \\\n    -r /volatile/nsap/dcm2nii/transcoding_table.json\n\"\"\"\n\n\ndef is_file(filearg):\n    \"\"\" Type for argparse - checks that file exists but does not open.\n    \"\"\"\n    if not os.path.isfile(filearg):\n        raise argparse.ArgumentError(\n            \"The file '{0}' does not exist!\".format(filearg))\n    return filearg\n\n\ndef is_directory(dirarg):\n    \"\"\" Type for argparse - checks that directory exists.\n    \"\"\"\n    if not os.path.isdir(dirarg):\n        raise argparse.ArgumentError(\n            \"The directory '{0}' does not exist!\".format(dirarg))\n    return dirarg\n\n\nparser = argparse.ArgumentParser(description=doc)\nparser.add_argument(\n    \"-v\", \"--verbose\", dest=\"verbose\", type=int, choices=[0, 1, 2], default=0,\n    help=\"increase the verbosity level: 0 silent, [1, 2] verbose.\")\nparser.add_argument(\n    \"-s\", \"--sid\", dest=\"sid\", required=False, type=str,\n    help=\"the subject identifier.\")\nparser.add_argument(\n    \"-d\", \"--dir\", dest=\"directory\", required=False, metavar=\"PATH\",\n    help=\"a folder that contains the subject identifiers as sub folders.\",\n    type=is_directory)\nparser.add_argument(\n    \"-r\", \"--transtable\", dest=\"transcode_table\", required=False,\n    metavar=\"FILE\", help=\"the transcoding table.\", type=is_file)\nparser.add_argument(\n    \"-o\", \"--outdir\", dest=\"outdir\", required=True, metavar=\"PATH\",\n    help=\"the folder that contains the generated transcoded table.\",\n    type=is_directory)\nargs = parser.parse_args()\ninputs = vars(args)\nverbose = inputs.pop(\"verbose\")"
      ], 
      "outputs": [], 
      "metadata": {
        "collapsed": false
      }
    }, 
    {
      "source": [
        "Welcome message.\n\n"
      ], 
      "cell_type": "markdown", 
      "metadata": {}
    }, 
    {
      "execution_count": null, 
      "cell_type": "code", 
      "source": [
        "tool = \"pydcmio_transcode\"\ntool_version = version\ntimestamp = datetime.now().isoformat()\nparams = locals()\nruntime = dict([(name, params[name])\n               for name in (\"tool\", \"tool_version\", \"timestamp\")])\noutputs = None\nif verbose > 0:\n    print(\"[info] Starting Transcoding ...\")\n    print(\"[info] Runtime:\")\n    pprint(runtime)\n    print(\"[info] Inputs:\")\n    pprint(inputs)"
      ], 
      "outputs": [], 
      "metadata": {
        "collapsed": false
      }
    }, 
    {
      "source": [
        "First get the subject identifiers\n\n"
      ], 
      "cell_type": "markdown", 
      "metadata": {}
    }, 
    {
      "execution_count": null, 
      "cell_type": "code", 
      "source": [
        "sids = []\nif args.sid is not None:\n    sids.append(args.sid)\nif args.directory is not None:\n    sub_folders = [name for name in os.listdir(args.directory)\n                   if os.path.isdir(os.path.join(args.directory, name))]\n    sids.extend(sub_folders)\n    sids = list(set(sids))"
      ], 
      "outputs": [], 
      "metadata": {
        "collapsed": false
      }
    }, 
    {
      "source": [
        "Then copy or create the input transcoding table.\n\n"
      ], 
      "cell_type": "markdown", 
      "metadata": {}
    }, 
    {
      "execution_count": null, 
      "cell_type": "code", 
      "source": [
        "if args.transcode_table is not None:\n    transcode_table = os.path.join(args.outdir,\n                                   os.path.basename(args.transcode_table))\n    shutil.copy(args.transcode_table, transcode_table)\nelse:\n    transcode_table = os.path.join(args.outdir, \"transcoding.json\")\n    with open(transcode_table, \"wt\") as open_file:\n        json.dump({}, open_file, indent=4)"
      ], 
      "outputs": [], 
      "metadata": {
        "collapsed": false
      }
    }, 
    {
      "source": [
        "Execute the transcoding task.\n\n"
      ], 
      "cell_type": "markdown", 
      "metadata": {}
    }, 
    {
      "execution_count": null, 
      "cell_type": "code", 
      "source": [
        "transcode_sids(sids, transcode_table)"
      ], 
      "outputs": [], 
      "metadata": {
        "collapsed": false
      }
    }, 
    {
      "source": [
        "Update the outputs and save them and the inputs in a 'logs' directory.\n\n"
      ], 
      "cell_type": "markdown", 
      "metadata": {}
    }, 
    {
      "execution_count": null, 
      "cell_type": "code", 
      "source": [
        "logdir = os.path.join(inputs[\"outdir\"], \"logs\")\nif not os.path.isdir(logdir):\n    os.mkdir(logdir)\nparams = locals()\noutputs = dict([(name, params[name])\n                for name in (\"sids\", \"transcode_table\")])\nfor name, final_struct in [(\"inputs\", inputs), (\"outputs\", outputs),\n                           (\"runtime\", runtime)]:\n    log_file = os.path.join(logdir, \"{0}.json\".format(name))\n    with open(log_file, \"wt\") as open_file:\n        json.dump(final_struct, open_file, sort_keys=True, check_circular=True,\n                  indent=4)\nif verbose > 1:\n    print(\"[info] Outputs:\")\n    pprint(outputs)"
      ], 
      "outputs": [], 
      "metadata": {
        "collapsed": false
      }
    }
  ], 
  "metadata": {
    "kernelspec": {
      "display_name": "Python 2", 
      "name": "python2", 
      "language": "python"
    }, 
    "language_info": {
      "mimetype": "text/x-python", 
      "nbconvert_exporter": "python", 
      "name": "python", 
      "file_extension": ".py", 
      "version": "2.7.12", 
      "pygments_lexer": "ipython2", 
      "codemirror_mode": {
        "version": 2, 
        "name": "ipython"
      }
    }
  }
}