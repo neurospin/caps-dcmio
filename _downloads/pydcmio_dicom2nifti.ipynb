{
  "nbformat_minor": 0, 
  "nbformat": 4, 
  "cells": [
    {
      "execution_count": null, 
      "cell_type": "code", 
      "source": [
        "%matplotlib inline"
      ], 
      "outputs": [], 
      "metadata": {
        "collapsed": false
      }
    }, 
    {
      "source": [
        "\nPydcmio Dicom2Nifti\n===================\n\nExample automatically generated from package script.\n\n"
      ], 
      "cell_type": "markdown", 
      "metadata": {}
    }, 
    {
      "execution_count": null, 
      "cell_type": "code", 
      "source": [
        "# System import\nfrom __future__ import print_function\nimport argparse\nimport os\nimport shutil\nimport numpy\nimport json\nimport glob\nfrom datetime import datetime\nfrom pprint import pprint\nimport textwrap\nfrom argparse import RawTextHelpFormatter\n\n# Bredala import\ntry:\n    import bredala\n    bredala.USE_PROFILER = False\n    bredala.register(\"pydcmio.dcmconverter.converter\",\n                     names=[\"generate_config\", \"dcm2nii\", \"add_meta_to_nii\",\n                            \"dcm2niix\"])\n    bredala.register(\"pydcmio.plotting.slicer\",\n                     names=[\"mosaic\"])\nexcept:\n    pass\n\n# Dcmio import\nfrom pydcmio import __version__ as version\nfrom pydcmio.dcmconverter.converter import generate_config\nfrom pydcmio.dcmconverter.converter import dcm2nii\nfrom pydcmio.dcmconverter.converter import dcm2niix\nfrom pydcmio.dcmconverter.converter import add_meta_to_nii\nfrom pydcmio.plotting.slicer import mosaic\nfrom pydcmio.dcm2nii.wrapper import Dcm2NiiWrapper\n\n\n# Parameters to keep trace\n__hopla__ = [\"runtime\", \"inputs\", \"outputs\"]\n\n\n# Script documentation\nDOC = \"\"\"\nDicom to Nifti conversion\n~~~~~~~~~~~~~~~~~~~~~~~~~\n\nWraps around the 'dcm2nii' command.\n\nThis code enables us to convert DICOMs to Nifti using the Chris Rorden's\n'dcm2nii' or 'dcm2niix' command.\n\nThe code is setup so that all the converted Nifti images are anonymized,\ncompressed in Nifti compressed '.nii.gz' format, and stacked in the same\nimage for 4D acquisitons. By default the proctocol is used to name the\ngenerated files. On top of that some DICOM tags can be stored in the\nconverted Nifti 'descrip' header field (for instance the repetition\ntime or the echo time).\n\nIt is also possible to transcode the subject identifier. To generate the\ntranscoding table you may want to use the 'pydcmio_transcode' script.\n\nSteps:\n\n1- perform the 'dcm2nii' or 'dcm2niix' conversion.\n2- force the normalization of the generated files.\n3- fill the nifti header.\n4- create a snap of the created volume(s).\n\nCommand:\n\npython $HOME/git/pydcmio/pydcmio/scripts/pydcmio_dicom2nifti \\\n    -v 2 \\\n    -s Lola \\\n    -p T2_GRE_1 \\\n    -d /volatile/nsap/dcm2nii/dicom/T2GRE \\\n    -o /volatile/nsap/dcm2nii/convert \\\n    -t \\\n    -r /volatile/nsap/dcm2nii/transcoding_table.json \\\n    -f TR,0x0018,0x0080,False TE,0x0018,0x0081,False \\\n    -e\n\"\"\"\n\n\ndef is_file(filearg):\n    \"\"\" Type for argparse - checks that file exists but does not open.\n    \"\"\"\n    if not os.path.isfile(filearg):\n        raise argparse.ArgumentError(\n            \"The file '{0}' does not exist!\".format(filearg))\n    return filearg\n\n\ndef is_directory(dirarg):\n    \"\"\" Type for argparse - checks that directory exists.\n    \"\"\"\n    if not os.path.isdir(dirarg):\n        raise argparse.ArgumentError(\n            \"The directory '{0}' does not exist!\".format(dirarg))\n    return dirarg\n\n\ndef get_cmd_line_args():\n    \"\"\"\n    Create a command line argument parser and return a dict mapping\n    <argument name> -> <argument value>.\n    \"\"\"\n    parser = argparse.ArgumentParser(\n        prog=\"python pydcmio_dicom2nifti\",\n        description=textwrap.dedent(DOC),\n        formatter_class=RawTextHelpFormatter)\n\n    # Required arguments\n    required = parser.add_argument_group(\"required arguments\")\n    required.add_argument(\n        \"-s\", \"--sid\",\n        required=True, metavar=\"<str>\",\n        help=\"the subject identifier.\")\n    required.add_argument(\n        \"-p\", \"--protocol\",\n        required=True, metavar=\"<str>\",\n        help=\"the protocol name.\")\n    required.add_argument(\n        \"-d\", \"--dcmdir\",\n        required=True, metavar=\"<path>\", type=is_directory,\n        help=\"the folder that contains the DICOMs to be converted.\")\n    required.add_argument(\n        \"-o\", \"--outdir\",\n        required=True, metavar=\"<path>\", type=is_directory,\n        help=\"the subject output folders.\")\n\n    # Optional arguments\n    parser.add_argument(\n        \"-t\", \"--transcode\",\n        action=\"store_true\",\n        help=\"if activated, the subject ID is transcoded.\")\n    parser.add_argument(\n        \"-x\", \"--dcm2niix\",\n        action=\"store_true\",\n        help=\"if activated, use 'dcm2niix' instead of 'dcm2nii'.\")\n    parser.add_argument(\n        \"-f\", \"--filledwithtags\",\n        nargs=\"*\",\n        help=\"define some tags to be added in the 'descrip' Nifti header \"\n             \"field.\")\n    parser.add_argument(\n        \"-r\", \"--transtable\", dest=\"transcode_table\",\n        metavar=\"<file>\", type=is_file,\n        help=\"an existing transcoding table.\")\n    parser.add_argument(\n        \"-e\", \"--erase\",\n        action=\"store_true\",\n        help=\"if activated, clean the conversion output folder.\")\n    parser.add_argument(\n        \"-v\", \"--verbose\",\n        type=int, choices=[0, 1, 2], default=0,\n        help=\"increase the verbosity level: 0 silent, [1, 2] verbose.\")\n\n    # Create a dict of arguments to pass to the 'main' function\n    args = parser.parse_args()\n    kwargs = vars(args)\n    verbose = kwargs.pop(\"verbose\")\n\n    return kwargs, verbose"
      ], 
      "outputs": [], 
      "metadata": {
        "collapsed": false
      }
    }, 
    {
      "source": [
        "First check if the output directory exists on the file system, and\nclean it if requested. Transcode also the subject identifier if requested.\n\n"
      ], 
      "cell_type": "markdown", 
      "metadata": {}
    }, 
    {
      "execution_count": null, 
      "cell_type": "code", 
      "source": [
        "inputs, verbose = get_cmd_line_args()\ntool = \"pydcmio_dicom2nifti\"\ntool_version = version\nif inputs[\"dcm2niix\"]:\n    dcm2nii_version = Dcm2NiiWrapper.version(\"dcm2niix\")\nelse:\n    dcm2nii_version = Dcm2NiiWrapper.version(\"dcm2nii\")\ntimestamp = datetime.now().isoformat()\nparams = locals()\nruntime = dict([(name, params[name])\n               for name in (\"tool\", \"tool_version\", \"dcm2nii_version\",\n                            \"timestamp\")])\noutputs = None\nif verbose > 0:\n    print(\"[info] Starting DICOM conversion ...\")\n    print(\"[info] Runtime:\")\n    pprint(runtime)\n    print(\"[info] Inputs:\")\n    pprint(inputs)\nif inputs[\"transcode\"]:\n    with open(inputs[\"transcode_table\"], \"rt\") as open_file:\n        transcoding = json.load(open_file)\n    if inputs[\"sid\"] not in transcoding:\n        raise ValueError(\n            \"'{0}' subject identifier not in '{1}' transcoding table.\".format(\n                inputs[\"sid\"], inputs[\"transcode_table\"]))\n    niidir = os.path.join(inputs[\"outdir\"], transcoding[inputs[\"sid\"]],\n                          inputs[\"protocol\"])\nelse:\n    niidir = os.path.join(inputs[\"outdir\"], inputs[\"sid\"], inputs[\"protocol\"])\nif inputs[\"erase\"] and os.path.isdir(niidir):\n    shutil.rmtree(niidir)\nif not os.path.isdir(niidir):\n    os.makedirs(niidir)"
      ], 
      "outputs": [], 
      "metadata": {
        "collapsed": false
      }
    }, 
    {
      "source": [
        "Step 1: perform the 'dcm2nii' or 'dcm2niix' conversion.\n\n"
      ], 
      "cell_type": "markdown", 
      "metadata": {}
    }, 
    {
      "execution_count": null, 
      "cell_type": "code", 
      "source": [
        "if inputs[\"dcm2niix\"]:\n    reoriented_files = []\n    reoriented_and_cropped_files = []\n    config_file = None\n    files, bvecs, bvals, bids = dcm2niix(\n        inputs[\"dcmdir\"], o=niidir, f=inputs[\"protocol\"], z=\"y\", b=\"y\")\nelse:\n    config_file = generate_config(\n        niidir, anonymized=True, gzip=True, add_date=False,\n        add_acquisition_number=False, add_protocol_name=True,\n        add_patient_name=False, add_source_filename=False,\n        begin_clip=0, end_clip=0)\n    bids = None\n    (files, reoriented_files, reoriented_and_cropped_files,\n     bvecs, bvals) = dcm2nii(\n        inputs[\"dcmdir\"], o=niidir, b=config_file)"
      ], 
      "outputs": [], 
      "metadata": {
        "collapsed": false
      }
    }, 
    {
      "source": [
        "Step 2: force the normalization of the generated files.\n\n"
      ], 
      "cell_type": "markdown", 
      "metadata": {}
    }, 
    {
      "execution_count": null, 
      "cell_type": "code", 
      "source": [
        "for index, path in enumerate(files):\n    dirname, basename = os.path.split(path)\n    suffix = \"\" if index == 0 else str(index)\n    dest_path = os.path.join(\n        dirname,\n        inputs[\"protocol\"] + suffix + \".nii.gz\")\n    shutil.move(path, dest_path)\n    files[index] = dest_path\nfor index, path in enumerate(bvecs):\n    dirname, basename = os.path.split(path)\n    suffix = \"\" if index == 0 else str(index)\n    dest_path = os.path.join(\n        dirname,\n        inputs[\"protocol\"] + suffix + \".bvecs\")\n    shutil.move(path, dest_path)\n    bvecs[index] = dest_path\nfor index, path in enumerate(bvals):\n    dirname, basename = os.path.split(path)\n    suffix = \"\" if index == 0 else str(index)\n    dest_path = os.path.join(\n        dirname,\n        inputs[\"protocol\"] + suffix + \".bvals\")\n    shutil.move(path, dest_path)\n    bvals[index] = dest_path\nif verbose > 1:\n    print(\"[result] Files: {0}.\".format(files))\n    print(\"[result] Reoriented files: {0}.\".format(reoriented_files))\n    print(\"[result] Reoriented and cropped files: {0}.\".format(\n        reoriented_and_cropped_files))\n    print(\"[result] Bvecs: {0}.\".format(bvecs))\n    print(\"[result] Bvals: {0}.\".format(bvals))\n    print(\"[result] BIDS: {0}.\".format(bids))"
      ], 
      "outputs": [], 
      "metadata": {
        "collapsed": false
      }
    }, 
    {
      "source": [
        "Step 3: fill the Nifti header.\n\n"
      ], 
      "cell_type": "markdown", 
      "metadata": {}
    }, 
    {
      "execution_count": null, 
      "cell_type": "code", 
      "source": [
        "filled_nii_files = []\nif inputs[\"filledwithtags\"] is not None:\n    tags = []\n    for elem in inputs[\"filledwithtags\"]:\n        name, t1, t2, stack = elem.split(\",\")\n        tags.append((name, (t1, t2), eval(stack)))\n    for path in files:\n        filled_nii_files.append(\n            add_meta_to_nii(path, inputs[\"dcmdir\"], dcm_tags=tags,\n                            outdir=niidir, prefix=\"f\"))\n    if verbose > 1:\n        print(\"[result] Filled files: {0}.\".format(filled_nii_files))"
      ], 
      "outputs": [], 
      "metadata": {
        "collapsed": false
      }
    }, 
    {
      "source": [
        "Step 4: create a snap of the created volume(s).\n\n"
      ], 
      "cell_type": "markdown", 
      "metadata": {}
    }, 
    {
      "execution_count": null, 
      "cell_type": "code", 
      "source": [
        "figures = []\nfor impath in files:\n    if len(bvals) == 0:\n        snap = mosaic(impath, niidir, strategy=\"average\")\n        figures.append(snap)\n    else:\n        indices = numpy.where(numpy.loadtxt(bvals[0]) >= 10)[0].tolist()\n        snap = mosaic(impath, niidir, strategy=\"pick\", indices=indices,\n                      title=\"dwi\", basename=\"dwi\")\n        figures.append(snap)\n        indices = numpy.where(numpy.loadtxt(bvals[0]) <= 10)[0].tolist()\n        snap = mosaic(impath, niidir, strategy=\"pick\", indices=indices,\n                      title=\"b0\", basename=\"b0\")\n        figures.append(snap)\nif verbose > 1:\n    print(\"[result] Snaps: {0}.\".format(figures))"
      ], 
      "outputs": [], 
      "metadata": {
        "collapsed": false
      }
    }, 
    {
      "source": [
        "Update the outputs and save them and the inputs in a 'logs' directory.\n\n"
      ], 
      "cell_type": "markdown", 
      "metadata": {}
    }, 
    {
      "execution_count": null, 
      "cell_type": "code", 
      "source": [
        "logdir = os.path.join(niidir, \"logs\")\nif not os.path.isdir(logdir):\n    os.mkdir(logdir)\nparams = locals()\noutputs = dict([(name, params[name])\n                for name in (\"config_file\", \"files\", \"reoriented_files\",\n                             \"reoriented_and_cropped_files\", \"bvecs\",\n                             \"bvals\", \"filled_nii_files\", \"figures\", \"bids\")])\nfor name, final_struct in [(\"inputs\", inputs), (\"outputs\", outputs),\n                           (\"runtime\", runtime)]:\n    log_file = os.path.join(logdir, \"{0}.json\".format(name))\n    with open(log_file, \"wt\") as open_file:\n        json.dump(final_struct, open_file, sort_keys=True, check_circular=True,\n                  indent=4)\nif verbose > 1:\n    print(\"[info] Outputs:\")\n    pprint(outputs)"
      ], 
      "outputs": [], 
      "metadata": {
        "collapsed": false
      }
    }
  ], 
  "metadata": {
    "kernelspec": {
      "display_name": "Python 2", 
      "name": "python2", 
      "language": "python"
    }, 
    "language_info": {
      "mimetype": "text/x-python", 
      "nbconvert_exporter": "python", 
      "name": "python", 
      "file_extension": ".py", 
      "version": "2.7.12", 
      "pygments_lexer": "ipython2", 
      "codemirror_mode": {
        "version": 2, 
        "name": "ipython"
      }
    }
  }
}