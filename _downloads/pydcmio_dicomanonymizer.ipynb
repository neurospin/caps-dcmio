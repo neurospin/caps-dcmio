{
  "nbformat_minor": 0, 
  "nbformat": 4, 
  "cells": [
    {
      "execution_count": null, 
      "cell_type": "code", 
      "source": [
        "%matplotlib inline"
      ], 
      "outputs": [], 
      "metadata": {
        "collapsed": false
      }
    }, 
    {
      "source": [
        "\nPydcmio Dicomanonymizer\n=======================\n\nExample automatically generated from package script.\n\n"
      ], 
      "cell_type": "markdown", 
      "metadata": {}
    }, 
    {
      "execution_count": null, 
      "cell_type": "code", 
      "source": [
        "# System import\nfrom __future__ import print_function\nimport argparse\nimport os\nimport shutil\n\n# Bredala import\ntry:\n    import bredala\n    bredala.USE_PROFILER = False\n    bredala.register(\"pydcmio.dcmanonymizer.anonymize\",\n                     names=[\"anonymize_dicomdir\"])\nexcept:\n    pass\n\n# Dcmio import\nfrom pydcmio import __version__ as version\nfrom pydcmio.dcmanonymizer.anonymize import anonymize_dicomdir\n\n# Parameters to track\n__hopla__ = [\"tool\", \"version\", \"inputs\", \"outputs\",\n             \"dcmdir\", \"anon_dcmdir\", \"anon_dcm_files\", \"logfiles\"]\n\n\n# Script documentation\ndoc = \"\"\"\nDicom to dicom anonymization\n~~~~~~~~~~~~~~~~~~~~~~~~~~~~\n\nThis code enables us to anonymize dicom files following references.\nIt generates a logfile (json) that contains information about all\ntransformations that have been performed.\nOne logfile is generated for each dicom anonymized.\n\nCommand:\n\npython $HOME/git/pydcmio/pydcmio/scripts/pydcmio_dicomanonymizer \\\n    -v 1 \\\n    -d /volatile/nsap/dcm2nii/dicom/T2GRE \\\n    -o /volatile/nsap/dcm2nii/dicom_anon/T2GRE \\\n    -e\n\"\"\"\n\n\ndef is_directory(dirarg):\n    \"\"\" Type for argparse - checks that directory exists.\n    \"\"\"\n    if not os.path.isdir(dirarg):\n        raise argparse.ArgumentError(\n            \"The directory '{0}' does not exist!\".format(dirarg))\n    return dirarg\n\n\nparser = argparse.ArgumentParser(description=doc)\nparser.add_argument(\n    \"-v\", \"--verbose\", dest=\"verbose\", type=int, choices=[0, 1, 2], default=0,\n    help=\"increase the verbosity level: 0 silent, [1, 2] verbose.\")\nparser.add_argument(\n    \"-e\", \"--erase\", dest=\"erase\", action=\"store_true\",\n    help=\"if activated, clean the output folder.\")\nparser.add_argument(\n    \"-d\", \"--dcmdir\", dest=\"dcmdir\", required=True, metavar=\"PATH\",\n    help=\"the folder that contains the DICOMs to be anonymized.\",\n    type=is_directory)\nparser.add_argument(\n    \"-o\", \"--outdir\", dest=\"outdir\", required=True, metavar=\"PATH\",\n    help=\"the folder that contains the anonymized dicom files.\",\n    type=is_directory)\nargs = parser.parse_args()"
      ], 
      "outputs": [], 
      "metadata": {
        "collapsed": false
      }
    }, 
    {
      "source": [
        "First check if the output directory exists on the file system, and\nclean it if requested.\n\n"
      ], 
      "cell_type": "markdown", 
      "metadata": {}
    }, 
    {
      "execution_count": null, 
      "cell_type": "code", 
      "source": [
        "if args.verbose > 0:\n    print(\"[info] Start dicom anonymization...\")\n    print(\"[info] Directory: {0}.\".format(args.dcmdir))\n    print(\"[info] Output: {0}.\".format(args.outdir))\ndcmdir = args.dcmdir\nanon_dcmdir = args.outdir\ninputs = [dcmdir]\noutputs = []\nif os.path.isdir(anon_dcmdir):\n    if args.erase:\n        shutil.rmtree(anon_dcmdir)\n        os.makedirs(anon_dcmdir)\nelse:\n    os.makedirs(anon_dcmdir)"
      ], 
      "outputs": [], 
      "metadata": {
        "collapsed": false
      }
    }, 
    {
      "source": [
        "Anonymize the Dicom files\n\n"
      ], 
      "cell_type": "markdown", 
      "metadata": {}
    }, 
    {
      "execution_count": null, 
      "cell_type": "code", 
      "source": [
        "anon_dcm_files, logfiles = anonymize_dicomdir(dcmdir, anon_dcmdir)\nif args.verbose > 1:\n    print(\"[result] anonymized files: {0}.\".format(anon_dcm_files))\n    print(\"[result] logfiles: {0}.\".format(logfiles))\noutputs = anon_dcm_files + logfiles"
      ], 
      "outputs": [], 
      "metadata": {
        "collapsed": false
      }
    }
  ], 
  "metadata": {
    "kernelspec": {
      "display_name": "Python 2", 
      "name": "python2", 
      "language": "python"
    }, 
    "language_info": {
      "mimetype": "text/x-python", 
      "nbconvert_exporter": "python", 
      "name": "python", 
      "file_extension": ".py", 
      "version": "2.7.12", 
      "pygments_lexer": "ipython2", 
      "codemirror_mode": {
        "version": 2, 
        "name": "ipython"
      }
    }
  }
}