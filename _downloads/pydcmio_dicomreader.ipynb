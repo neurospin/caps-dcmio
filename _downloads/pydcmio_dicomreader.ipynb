{
  "nbformat_minor": 0, 
  "nbformat": 4, 
  "cells": [
    {
      "execution_count": null, 
      "cell_type": "code", 
      "source": [
        "%matplotlib inline"
      ], 
      "outputs": [], 
      "metadata": {
        "collapsed": false
      }
    }, 
    {
      "source": [
        "\nPydcmio Dicomreader\n===================\n\nExample automatically generated from package script.\n\n"
      ], 
      "cell_type": "markdown", 
      "metadata": {}
    }, 
    {
      "execution_count": null, 
      "cell_type": "code", 
      "source": [
        "# System import\nfrom __future__ import print_function\nimport argparse\nimport os\n\n# Bredala import\ntry:\n    import bredala\n    bredala.USE_PROFILER = False\n    bredala.register(\"pydcmio.dcmreader.reader\",\n                     names=[\"get_values\"])\nexcept:\n    pass\n\n# Dcmio import\nfrom pydcmio import __version__ as version\nfrom pydcmio.dcmreader.reader import walk\nfrom pydcmio.dcmreader.reader import get_values\nfrom pydcmio.dcmreader.reader import STANDARD_EXTRACTOR\n\n# Parameters to keep trace\n__hopla__ = [\"tool\", \"version\"]\n\n\n# Script documentation\ndoc = \"\"\"\nDicom reader and value extractor\n~~~~~~~~~~~~~~~~~~~~~~~~~~~~~~~~\n\nThis code enables us to extract any kind of information from a Dicom file.\n\nDicom field sequences are parsed recursively (deep search) to handle\nenhanced storage parsing.\n\nSteps:\n\nChose which mode you want to use:\n\n* free (you provide the dicom tags)\n* guided (tags are automatically provided)\n\nCommand:\n\npython $HOME/git/pydcmio/pydcmio/scripts/pydcmio_dicomreader \\\n    -t 0x0018 0x1312 \\\n    -f /volatile/nsap/dcm2nii/dicom/dcm.dcm \\\n    -s\n\nor\n\npython $HOME/git/pydcmio/pydcmio/scripts/pydcmio_dicomreader \\\n    -a get_sequence_name \\\n    -f /volatile/nsap/dcm2nii/dicom/dcm.dcm\n\"\"\"\n\n\ndef is_file(filearg):\n    \"\"\" Type for argparse - checks that output file exists.\n    \"\"\"\n    if not os.path.isfile(filearg):\n        raise argparse.ArgumentError(\n            \"The file '{0}' does not exist!\".format(filearg))\n    return filearg\n\n\nparser = argparse.ArgumentParser(description=doc)\nparser.add_argument(\n    \"-v\", \"--verbose\", dest=\"verbose\", type=int, choices=[0, 1, 2], default=0,\n    help=\"increase the verbosity level: 0 silent, [1, 2] verbose.\")\ngroup = parser.add_mutually_exclusive_group()\ngroup.add_argument(\n    \"-t\", \"--tag\", dest=\"dcmtag\",\n    help=(\"the tags you wich to extract from the dicom file, string such as \"\n          \"type(repr(<tag>)) == tuple.\"),\n    type=str, nargs=2)\ngroup.add_argument(\n    \"-a\", \"--extractor\", dest=\"extractor\", choices=STANDARD_EXTRACTOR.keys(),\n    help=\"use an already provided extractor: {}\".format(\n        STANDARD_EXTRACTOR.keys()))\nparser.add_argument(\n    \"-f\", \"--dcmfile\", dest=\"dcmfile\", required=True, metavar=\"PATH\",\n    help=\"the dicom file to parse\",\n    type=is_file)\nparser.add_argument(\n    \"-s\", \"--stack\", dest=\"stack\", action=\"store_true\",\n    help=(\"if specified, the output file will contain all values that \"\n          \"correspond to a given tag, not only the first one.\"))\nargs = parser.parse_args()"
      ], 
      "outputs": [], 
      "metadata": {
        "collapsed": false
      }
    }, 
    {
      "source": [
        "Welcome message\n\n"
      ], 
      "cell_type": "markdown", 
      "metadata": {}
    }, 
    {
      "execution_count": null, 
      "cell_type": "code", 
      "source": [
        "if args.verbose > 0:\n    print(\"[info] Start dicom tag extraction...\")\n    print(\"[info] Dicom file: {0}.\".format(args.dcmfile))"
      ], 
      "outputs": [], 
      "metadata": {
        "collapsed": false
      }
    }, 
    {
      "source": [
        "Get tag\n\n"
      ], 
      "cell_type": "markdown", 
      "metadata": {}
    }, 
    {
      "execution_count": null, 
      "cell_type": "code", 
      "source": [
        "if args.dcmtag:\n    print(args.dcmtag, \": \",\n          walk(args.dcmfile, args.dcmtag, stack_values=args.stack))"
      ], 
      "outputs": [], 
      "metadata": {
        "collapsed": false
      }
    }, 
    {
      "source": [
        "Get extractor\n\n"
      ], 
      "cell_type": "markdown", 
      "metadata": {}
    }, 
    {
      "execution_count": null, 
      "cell_type": "code", 
      "source": [
        "if args.extractor:\n    print(args.extractor, STANDARD_EXTRACTOR[args.extractor], \": \",\n          get_values(args.dcmfile, args.extractor))"
      ], 
      "outputs": [], 
      "metadata": {
        "collapsed": false
      }
    }
  ], 
  "metadata": {
    "kernelspec": {
      "display_name": "Python 2", 
      "name": "python2", 
      "language": "python"
    }, 
    "language_info": {
      "mimetype": "text/x-python", 
      "nbconvert_exporter": "python", 
      "name": "python", 
      "file_extension": ".py", 
      "version": "2.7.12", 
      "pygments_lexer": "ipython2", 
      "codemirror_mode": {
        "version": 2, 
        "name": "ipython"
      }
    }
  }
}